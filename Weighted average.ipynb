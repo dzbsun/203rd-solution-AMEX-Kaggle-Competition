{
 "cells": [
  {
   "cell_type": "code",
   "execution_count": 1,
   "id": "f42cb0fd",
   "metadata": {},
   "outputs": [],
   "source": [
    "import numpy as np\n",
    "import pandas as pd\n",
    "import os\n",
    "from tqdm.notebook import tqdm"
   ]
  },
  {
   "cell_type": "code",
   "execution_count": 2,
   "id": "744ecba2",
   "metadata": {},
   "outputs": [],
   "source": [
    "# Out-of-fold prediction files are saved in folder 'Out-of-fold predictions'\n",
    "paths = ['oof_lgbm_baseline_5fold_seed42_l2_5_1258fe_round2_9500_new.csv'\n",
    "        ,'oof_lgbm_baseline_5fold_seed42_l2_5_1258fe_round2_9500_ff25.csv'\n",
    "        ,'oof_xgb_0796_kaggle.csv'\n",
    "        ]"
   ]
  },
  {
   "cell_type": "code",
   "execution_count": 3,
   "id": "9bd39a0f",
   "metadata": {},
   "outputs": [
    {
     "name": "stdout",
     "output_type": "stream",
     "text": [
      "model 1 is: oof_lgbm_baseline_5fold_seed42_l2_5_1258fe_round2_9500_new\n",
      "model 2 is: oof_lgbm_baseline_5fold_seed42_l2_5_1258fe_round2_9500_ff25\n",
      "model 3 is: oof_xgb_0796_kaggle\n"
     ]
    },
    {
     "data": {
      "text/plain": [
       "(458913, 5)"
      ]
     },
     "execution_count": 3,
     "metadata": {},
     "output_type": "execute_result"
    }
   ],
   "source": [
    "# Create a dataframe\n",
    "oof_df = pd.DataFrame()\n",
    "\n",
    "for i, path in enumerate(paths):\n",
    "    \n",
    "    # Find filename\n",
    "    start = 0\n",
    "    end = path.find('.csv')\n",
    "    fname = path[start:end]\n",
    "    \n",
    "    print(f'model {i+1} is: {fname}')\n",
    "    \n",
    "    temp = pd.read_csv(path)\n",
    "    \n",
    "    # Set column name of oof\n",
    "    temp.rename(columns={'prediction': f'model {i+1}'}, inplace=True)\n",
    "    \n",
    "    # Drop redundant target column\n",
    "    if i != 0:\n",
    "        temp.drop(columns=['target'], inplace=True)\n",
    "    \n",
    "    # Join to main file\n",
    "    if i == 0:\n",
    "        oof_df = temp\n",
    "    else:\n",
    "        oof_df = pd.merge(oof_df, temp, on=\"customer_ID\", how=\"left\")\n",
    "    \n",
    "oof_df.shape"
   ]
  },
  {
   "cell_type": "code",
   "execution_count": 4,
   "id": "ba307cea",
   "metadata": {},
   "outputs": [
    {
     "data": {
      "text/html": [
       "<div>\n",
       "<style scoped>\n",
       "    .dataframe tbody tr th:only-of-type {\n",
       "        vertical-align: middle;\n",
       "    }\n",
       "\n",
       "    .dataframe tbody tr th {\n",
       "        vertical-align: top;\n",
       "    }\n",
       "\n",
       "    .dataframe thead th {\n",
       "        text-align: right;\n",
       "    }\n",
       "</style>\n",
       "<table border=\"1\" class=\"dataframe\">\n",
       "  <thead>\n",
       "    <tr style=\"text-align: right;\">\n",
       "      <th></th>\n",
       "      <th>customer_ID</th>\n",
       "      <th>target</th>\n",
       "      <th>model 1</th>\n",
       "      <th>model 2</th>\n",
       "      <th>model 3</th>\n",
       "    </tr>\n",
       "  </thead>\n",
       "  <tbody>\n",
       "    <tr>\n",
       "      <th>0</th>\n",
       "      <td>0000099d6bd597052cdcda90ffabf56573fe9d7c79be5f...</td>\n",
       "      <td>0</td>\n",
       "      <td>0.000465</td>\n",
       "      <td>0.000445</td>\n",
       "      <td>0.000304</td>\n",
       "    </tr>\n",
       "    <tr>\n",
       "      <th>1</th>\n",
       "      <td>00000fd6641609c6ece5454664794f0340ad84dddce9a2...</td>\n",
       "      <td>0</td>\n",
       "      <td>0.000739</td>\n",
       "      <td>0.000673</td>\n",
       "      <td>0.000663</td>\n",
       "    </tr>\n",
       "    <tr>\n",
       "      <th>2</th>\n",
       "      <td>00001b22f846c82c51f6e3958ccd81970162bae8b007e8...</td>\n",
       "      <td>0</td>\n",
       "      <td>0.000714</td>\n",
       "      <td>0.001037</td>\n",
       "      <td>0.000917</td>\n",
       "    </tr>\n",
       "    <tr>\n",
       "      <th>3</th>\n",
       "      <td>000041bdba6ecadd89a52d11886e8eaaec9325906c9723...</td>\n",
       "      <td>0</td>\n",
       "      <td>0.003782</td>\n",
       "      <td>0.003708</td>\n",
       "      <td>0.004145</td>\n",
       "    </tr>\n",
       "    <tr>\n",
       "      <th>4</th>\n",
       "      <td>00007889e4fcd2614b6cbe7f8f3d2e5c728eca32d9eb8a...</td>\n",
       "      <td>0</td>\n",
       "      <td>0.001533</td>\n",
       "      <td>0.001437</td>\n",
       "      <td>0.000982</td>\n",
       "    </tr>\n",
       "  </tbody>\n",
       "</table>\n",
       "</div>"
      ],
      "text/plain": [
       "                                         customer_ID  target   model 1  \\\n",
       "0  0000099d6bd597052cdcda90ffabf56573fe9d7c79be5f...       0  0.000465   \n",
       "1  00000fd6641609c6ece5454664794f0340ad84dddce9a2...       0  0.000739   \n",
       "2  00001b22f846c82c51f6e3958ccd81970162bae8b007e8...       0  0.000714   \n",
       "3  000041bdba6ecadd89a52d11886e8eaaec9325906c9723...       0  0.003782   \n",
       "4  00007889e4fcd2614b6cbe7f8f3d2e5c728eca32d9eb8a...       0  0.001533   \n",
       "\n",
       "    model 2   model 3  \n",
       "0  0.000445  0.000304  \n",
       "1  0.000673  0.000663  \n",
       "2  0.001037  0.000917  \n",
       "3  0.003708  0.004145  \n",
       "4  0.001437  0.000982  "
      ]
     },
     "execution_count": 4,
     "metadata": {},
     "output_type": "execute_result"
    }
   ],
   "source": [
    "oof_df.head()"
   ]
  },
  {
   "cell_type": "code",
   "execution_count": 5,
   "id": "3e733411",
   "metadata": {},
   "outputs": [],
   "source": [
    "plot_fe = [col for col in oof_df.columns if col not in ['target','customer_ID']]"
   ]
  },
  {
   "cell_type": "code",
   "execution_count": 6,
   "id": "bef92ac2",
   "metadata": {},
   "outputs": [
    {
     "data": {
      "image/png": "[encoded data removed]",
      "text/plain": [
       "<Figure size 432x288 with 1 Axes>"
      ]
     },
     "metadata": {
      "needs_background": "light"
     },
     "output_type": "display_data"
    },
    {
     "data": {
      "image/png": "[encoded data removed]",
      "text/plain": [
       "<Figure size 432x288 with 1 Axes>"
      ]
     },
     "metadata": {
      "needs_background": "light"
     },
     "output_type": "display_data"
    },
    {
     "data": {
      "image/png": "[encoded data removed]",
      "text/plain": [
       "<Figure size 432x288 with 1 Axes>"
      ]
     },
     "metadata": {
      "needs_background": "light"
     },
     "output_type": "display_data"
    }
   ],
   "source": [
    "import matplotlib.pyplot as plt\n",
    "for fe in plot_fe:\n",
    "    plt.hist(oof_df[fe], bins=100)\n",
    "    plt.title(f'Distribution of {fe}')\n",
    "    plt.show()"
   ]
  },
  {
   "cell_type": "code",
   "execution_count": 7,
   "id": "020f53d1",
   "metadata": {},
   "outputs": [],
   "source": [
    "# https://www.kaggle.com/kyakovlev\n",
    "# https://www.kaggle.com/competitions/amex-default-prediction/discussion/327534\n",
    "def amex_metric_mod(y_true, y_pred):\n",
    "\n",
    "    labels     = np.transpose(np.array([y_true, y_pred]))\n",
    "    labels     = labels[labels[:, 1].argsort()[::-1]]\n",
    "    weights    = np.where(labels[:,0]==0, 20, 1)\n",
    "    cut_vals   = labels[np.cumsum(weights) <= int(0.04 * np.sum(weights))]\n",
    "    top_four   = np.sum(cut_vals[:,0]) / np.sum(labels[:,0])\n",
    "\n",
    "    gini = [0,0]\n",
    "    for i in [1,0]:\n",
    "        labels         = np.transpose(np.array([y_true, y_pred]))\n",
    "        labels         = labels[labels[:, i].argsort()[::-1]]\n",
    "        weight         = np.where(labels[:,0]==0, 20, 1)\n",
    "        weight_random  = np.cumsum(weight / np.sum(weight))\n",
    "        total_pos      = np.sum(labels[:, 0] *  weight)\n",
    "        cum_pos_found  = np.cumsum(labels[:, 0] * weight)\n",
    "        lorentz        = cum_pos_found / total_pos\n",
    "        gini[i]        = np.sum((lorentz - weight_random) * weight)\n",
    "\n",
    "    return 0.5 * (gini[1]/gini[0] + top_four)"
   ]
  },
  {
   "cell_type": "code",
   "execution_count": 8,
   "id": "002cb829",
   "metadata": {},
   "outputs": [
    {
     "name": "stdout",
     "output_type": "stream",
     "text": [
      "model 1 has amex score : 0.7984637138546473\n",
      "model 2 has amex score : 0.7980616411230783\n",
      "model 3 has amex score : 0.7967728512767829\n"
     ]
    }
   ],
   "source": [
    "# Compute amex score for each oof prediction\n",
    "oofCols = [col for col in oof_df.columns if 'model' in col]\n",
    "\n",
    "for col in oofCols:\n",
    "    metric = amex_metric_mod(oof_df['target'], oof_df[col])\n",
    "    \n",
    "    print(f\"{col} has amex score : {metric}\")"
   ]
  },
  {
   "cell_type": "markdown",
   "id": "f308dfeb",
   "metadata": {},
   "source": [
    "# **Optimised weights**"
   ]
  },
  {
   "cell_type": "code",
   "execution_count": null,
   "id": "71962693",
   "metadata": {},
   "outputs": [],
   "source": [
    "# Find best weights that have the highest oof cv score\n",
    "%%time\n",
    "oof_preds = []\n",
    "for col in oofCols:\n",
    "    print(col)\n",
    "    oof_preds.append(oof_df[col])\n",
    "\n",
    "score = 0\n",
    "for i in range(0,101):\n",
    "    for j in range(0,101):\n",
    "        w1 = i * 0.01\n",
    "        w2 = j * 0.01\n",
    "        if w1 + w2 < 1:\n",
    "            w3 = 1- w1 - w2\n",
    "            y_avg = (np.array(oof_preds)[0]*w1)+(np.array(oof_preds)[1]*w2)+(np.array(oof_preds)[2]*w3)\n",
    "            sa_metric = amex_metric_mod(oof_df['target'], y_avg)\n",
    "            if sa_metric > score:\n",
    "                score = sa_metric\n",
    "                fw1 = w1\n",
    "                fw2 = w2\n",
    "                fw3 = w3\n",
    "print(f\"Average: {score}, weights are: {fw1, fw2, fw3}\")"
   ]
  },
  {
   "cell_type": "code",
   "execution_count": 12,
   "id": "0531afed",
   "metadata": {},
   "outputs": [
    {
     "name": "stdout",
     "output_type": "stream",
     "text": [
      "0.7995637162116731\n"
     ]
    }
   ],
   "source": [
    "# Compute cv score of an ensemble with optimised weights\n",
    "oof_preds_check = []\n",
    "for col in oofCols:\n",
    "    oof_preds_check.append(oof_df[col])\n",
    "    \n",
    "y_avg = (np.array(oof_preds_check)[0]*0.38)+(np.array(oof_preds_check)[1]*0.49)+(np.array(oof_preds_check)[2]*0.13)\n",
    "sa_metric = amex_metric_mod(oof_df['target'], y_avg)\n",
    "print(sa_metric)"
   ]
  },
  {
   "cell_type": "markdown",
   "id": "633bacd2",
   "metadata": {},
   "source": [
    "# **Ensembling**"
   ]
  },
  {
   "cell_type": "code",
   "execution_count": 13,
   "id": "30f69e11",
   "metadata": {},
   "outputs": [],
   "source": [
    "# Load predictions of each single model\n",
    "# The predictions of each single model are saved in folder 'Single model predictions'\n",
    "csv1 = pd.read_csv('test_lgbm_5folds_seed42_l2_5_1258fe_round2_9500_new.csv')\n",
    "csv2 = pd.read_csv('test_lgbm_5folds_seed42_l2_5_1258fe_round2_9500_ff25.csv')\n",
    "csv3 = pd.read_csv('submission_0796_kaggle.csv')\n",
    "csv_final = csv1.copy()\n",
    "csv_final['prediction'] = (csv1['prediction']*0.38)+(csv2['prediction']*0.49)+(csv3['prediction']*0.13)"
   ]
  },
  {
   "cell_type": "code",
   "execution_count": 14,
   "id": "07913c04",
   "metadata": {},
   "outputs": [
    {
     "data": {
      "text/html": [
       "<div>\n",
       "<style scoped>\n",
       "    .dataframe tbody tr th:only-of-type {\n",
       "        vertical-align: middle;\n",
       "    }\n",
       "\n",
       "    .dataframe tbody tr th {\n",
       "        vertical-align: top;\n",
       "    }\n",
       "\n",
       "    .dataframe thead th {\n",
       "        text-align: right;\n",
       "    }\n",
       "</style>\n",
       "<table border=\"1\" class=\"dataframe\">\n",
       "  <thead>\n",
       "    <tr style=\"text-align: right;\">\n",
       "      <th></th>\n",
       "      <th>customer_ID</th>\n",
       "      <th>prediction</th>\n",
       "    </tr>\n",
       "  </thead>\n",
       "  <tbody>\n",
       "    <tr>\n",
       "      <th>0</th>\n",
       "      <td>00000469ba478561f23a92a868bd366de6f6527a684c9a...</td>\n",
       "      <td>0.055024</td>\n",
       "    </tr>\n",
       "    <tr>\n",
       "      <th>1</th>\n",
       "      <td>00001bf2e77ff879fab36aa4fac689b9ba411dae63ae39...</td>\n",
       "      <td>0.006757</td>\n",
       "    </tr>\n",
       "    <tr>\n",
       "      <th>2</th>\n",
       "      <td>0000210045da4f81e5f122c6bde5c2a617d03eef67f82c...</td>\n",
       "      <td>0.064389</td>\n",
       "    </tr>\n",
       "    <tr>\n",
       "      <th>3</th>\n",
       "      <td>00003b41e58ede33b8daf61ab56d9952f17c9ad1c3976c...</td>\n",
       "      <td>0.217761</td>\n",
       "    </tr>\n",
       "    <tr>\n",
       "      <th>4</th>\n",
       "      <td>00004b22eaeeeb0ec976890c1d9bfc14fd9427e98c4ee9...</td>\n",
       "      <td>0.880862</td>\n",
       "    </tr>\n",
       "  </tbody>\n",
       "</table>\n",
       "</div>"
      ],
      "text/plain": [
       "                                         customer_ID  prediction\n",
       "0  00000469ba478561f23a92a868bd366de6f6527a684c9a...    0.055024\n",
       "1  00001bf2e77ff879fab36aa4fac689b9ba411dae63ae39...    0.006757\n",
       "2  0000210045da4f81e5f122c6bde5c2a617d03eef67f82c...    0.064389\n",
       "3  00003b41e58ede33b8daf61ab56d9952f17c9ad1c3976c...    0.217761\n",
       "4  00004b22eaeeeb0ec976890c1d9bfc14fd9427e98c4ee9...    0.880862"
      ]
     },
     "execution_count": 14,
     "metadata": {},
     "output_type": "execute_result"
    }
   ],
   "source": [
    "csv_final.head()"
   ]
  },
  {
   "cell_type": "code",
   "execution_count": 15,
   "id": "a9af82c5",
   "metadata": {},
   "outputs": [
    {
     "data": {
      "image/png": "[encoded data removed]",
      "text/plain": [
       "<Figure size 432x288 with 1 Axes>"
      ]
     },
     "metadata": {
      "needs_background": "light"
     },
     "output_type": "display_data"
    }
   ],
   "source": [
    "import matplotlib.pyplot as plt\n",
    "plt.hist(csv_final.prediction, bins=100)\n",
    "plt.title('Test Predictions')\n",
    "plt.show()"
   ]
  },
  {
   "cell_type": "code",
   "execution_count": null,
   "id": "4f6a790c",
   "metadata": {},
   "outputs": [],
   "source": [
    "#csv_final.to_csv('submission_real_final.csv', index=False)"
   ]
  },
  {
   "cell_type": "code",
   "execution_count": null,
   "id": "db65c284",
   "metadata": {},
   "outputs": [],
   "source": []
  }
 ],
 "metadata": {
  "kernelspec": {
   "display_name": "Python 3 (ipykernel)",
   "language": "python",
   "name": "python3"
  },
  "language_info": {
   "codemirror_mode": {
    "name": "ipython",
    "version": 3
   },
   "file_extension": ".py",
   "mimetype": "text/x-python",
   "name": "python",
   "nbconvert_exporter": "python",
   "pygments_lexer": "ipython3",
   "version": "3.10.5"
  }
 },
 "nbformat": 4,
 "nbformat_minor": 5
}
