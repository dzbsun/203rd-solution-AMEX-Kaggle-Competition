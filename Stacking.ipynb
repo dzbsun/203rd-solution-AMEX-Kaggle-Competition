{
 "cells": [
  {
   "cell_type": "code",
   "execution_count": 1,
   "id": "3b269b69",
   "metadata": {},
   "outputs": [],
   "source": [
    "import numpy as np\n",
    "import pandas as pd\n",
    "import os\n",
    "from tqdm.notebook import tqdm\n",
    "import matplotlib.pyplot as plt\n",
    "from sklearn.model_selection import StratifiedKFold, train_test_split\n",
    "from sklearn.linear_model import LogisticRegression\n",
    "import gc"
   ]
  },
  {
   "cell_type": "markdown",
   "id": "cc9b29a4",
   "metadata": {},
   "source": [
    "# **Logistic regression**"
   ]
  },
  {
   "cell_type": "code",
   "execution_count": 2,
   "id": "4ffdf2d1",
   "metadata": {},
   "outputs": [],
   "source": [
    "# Out-of-fold prediction files are saved in folder 'Out-of-fold predictions'\n",
    "paths = ['oof_lgbm_baseline_5fold_seed42_l2_5_1258fe_round2_9500_new.csv'\n",
    "        ,'oof_lgbm_baseline_5fold_seed42_l2_5_1258fe_round2_9500_ff25.csv'\n",
    "        ,'oof_xgb_v0_5fold_seed42_fea1285_round2.csv'\n",
    "        ,'oof_xgb_0796_kaggle.csv'\n",
    "        ]"
   ]
  },
  {
   "cell_type": "code",
   "execution_count": 3,
   "id": "868a8561",
   "metadata": {},
   "outputs": [
    {
     "name": "stdout",
     "output_type": "stream",
     "text": [
      "model 1 is: oof_lgbm_baseline_5fold_seed42_l2_5_1258fe_round2_9500_new\n",
      "model 2 is: oof_lgbm_baseline_5fold_seed42_l2_5_1258fe_round2_9500_ff25\n",
      "model 3 is: oof_xgb_v0_5fold_seed42_fea1285_round2\n",
      "model 4 is: oof_xgb_0796_kaggle\n"
     ]
    },
    {
     "data": {
      "text/plain": [
       "(458913, 6)"
      ]
     },
     "execution_count": 3,
     "metadata": {},
     "output_type": "execute_result"
    }
   ],
   "source": [
    "# Create dataframe\n",
    "oof_df = pd.DataFrame()\n",
    "\n",
    "for i, path in enumerate(paths):\n",
    "    \n",
    "    # Find filename\n",
    "    start = 0\n",
    "    end = path.find('.csv')\n",
    "    fname = path[start:end]\n",
    "    \n",
    "    print(f'model {i+1} is: {fname}')\n",
    "    \n",
    "    temp = pd.read_csv(path)\n",
    "    \n",
    "    # Set column name of oof\n",
    "    temp.rename(columns={'prediction': f'model {i+1}'}, inplace=True)\n",
    "    \n",
    "    # Drop redundant target column\n",
    "    if i != 0:\n",
    "        temp.drop(columns=['target'], inplace=True)\n",
    "    \n",
    "    # Join to main file\n",
    "    if i == 0:\n",
    "        oof_df = temp\n",
    "    else:\n",
    "        oof_df = pd.merge(oof_df, temp, on=\"customer_ID\", how=\"left\")\n",
    "    \n",
    "oof_df.shape"
   ]
  },
  {
   "cell_type": "code",
   "execution_count": 4,
   "id": "dd8e2d25",
   "metadata": {},
   "outputs": [],
   "source": [
    "# https://www.kaggle.com/kyakovlev\n",
    "# https://www.kaggle.com/competitions/amex-default-prediction/discussion/327534\n",
    "def amex_metric_mod(y_true, y_pred):\n",
    "\n",
    "    labels     = np.transpose(np.array([y_true, y_pred]))\n",
    "    labels     = labels[labels[:, 1].argsort()[::-1]]\n",
    "    weights    = np.where(labels[:,0]==0, 20, 1)\n",
    "    cut_vals   = labels[np.cumsum(weights) <= int(0.04 * np.sum(weights))]\n",
    "    top_four   = np.sum(cut_vals[:,0]) / np.sum(labels[:,0])\n",
    "\n",
    "    gini = [0,0]\n",
    "    for i in [1,0]:\n",
    "        labels         = np.transpose(np.array([y_true, y_pred]))\n",
    "        labels         = labels[labels[:, i].argsort()[::-1]]\n",
    "        weight         = np.where(labels[:,0]==0, 20, 1)\n",
    "        weight_random  = np.cumsum(weight / np.sum(weight))\n",
    "        total_pos      = np.sum(labels[:, 0] *  weight)\n",
    "        cum_pos_found  = np.cumsum(labels[:, 0] * weight)\n",
    "        lorentz        = cum_pos_found / total_pos\n",
    "        gini[i]        = np.sum((lorentz - weight_random) * weight)\n",
    "\n",
    "    return 0.5 * (gini[1]/gini[0] + top_four)\n",
    "\n",
    "\n",
    "# https://www.kaggle.com/kyakovlev\n",
    "# https://www.kaggle.com/competitions/amex-default-prediction/discussion/327534\n",
    "def amex_metric(y_true, y_pred):\n",
    "\n",
    "    labels     = np.transpose(np.array([y_true, y_pred]))\n",
    "    labels     = labels[labels[:, 1].argsort()[::-1]]\n",
    "    weights    = np.where(labels[:,0]==0, 20, 1)\n",
    "    cut_vals   = labels[np.cumsum(weights) <= int(0.04 * np.sum(weights))]\n",
    "    top_four   = np.sum(cut_vals[:,0]) / np.sum(labels[:,0])\n",
    "\n",
    "    gini = [0,0]\n",
    "    for i in [1,0]:\n",
    "        labels         = np.transpose(np.array([y_true, y_pred]))\n",
    "        labels         = labels[labels[:, i].argsort()[::-1]]\n",
    "        weight         = np.where(labels[:,0]==0, 20, 1)\n",
    "        weight_random  = np.cumsum(weight / np.sum(weight))\n",
    "        total_pos      = np.sum(labels[:, 0] *  weight)\n",
    "        cum_pos_found  = np.cumsum(labels[:, 0] * weight)\n",
    "        lorentz        = cum_pos_found / total_pos\n",
    "        gini[i]        = np.sum((lorentz - weight_random) * weight)\n",
    "\n",
    "    return 0.5 * (gini[1]/gini[0] + top_four)"
   ]
  },
  {
   "cell_type": "code",
   "execution_count": 5,
   "id": "e02be339",
   "metadata": {},
   "outputs": [],
   "source": [
    "# Compute CV scores of each out-of-fold predictions\n",
    "oofCols = [col for col in oof_df.columns if 'oof' in col]\n",
    "\n",
    "for col in oofCols:\n",
    "    metric = amex_metric_mod(oof_df['target'], oof_df[col])\n",
    "    \n",
    "    print(f\"{col} : {metric}\")"
   ]
  },
  {
   "cell_type": "code",
   "execution_count": 6,
   "id": "56708dc4",
   "metadata": {},
   "outputs": [
    {
     "data": {
      "image/png": "[encoded data removed]",
      "text/plain": [
       "<Figure size 432x288 with 1 Axes>"
      ]
     },
     "metadata": {
      "needs_background": "light"
     },
     "output_type": "display_data"
    },
    {
     "data": {
      "image/png": "[encoded data removed]",
      "text/plain": [
       "<Figure size 432x288 with 1 Axes>"
      ]
     },
     "metadata": {
      "needs_background": "light"
     },
     "output_type": "display_data"
    },
    {
     "data": {
      "image/png": "[encoded data removed]",
      "text/plain": [
       "<Figure size 432x288 with 1 Axes>"
      ]
     },
     "metadata": {
      "needs_background": "light"
     },
     "output_type": "display_data"
    },
    {
     "data": {
      "image/png": "[encoded data removed]",
      "text/plain": [
       "<Figure size 432x288 with 1 Axes>"
      ]
     },
     "metadata": {
      "needs_background": "light"
     },
     "output_type": "display_data"
    }
   ],
   "source": [
    "# Plot distributions of each out-of-fold predictions\n",
    "features = [col for col in oof_df.columns if col not in ['customer_ID', 'target']]\n",
    "for fe in features:\n",
    "    plt.hist(oof_df[fe], bins=100)\n",
    "    plt.title(f'Distribution of {fe}')\n",
    "    plt.show()"
   ]
  },
  {
   "cell_type": "code",
   "execution_count": 7,
   "id": "2b4cdf9b",
   "metadata": {},
   "outputs": [
    {
     "name": "stdout",
     "output_type": "stream",
     "text": [
      "\n",
      "--------------------------------------------------\n",
      "Trainig fold 0\n",
      "Fold 0 has score 0.8044957938555143\n",
      "\n",
      "--------------------------------------------------\n",
      "Trainig fold 1\n",
      "Fold 1 has score 0.796348162054846\n",
      "\n",
      "--------------------------------------------------\n",
      "Trainig fold 2\n",
      "Fold 2 has score 0.7992744469035331\n",
      "\n",
      "--------------------------------------------------\n",
      "Trainig fold 3\n",
      "Fold 3 has score 0.7958367600712971\n",
      "\n",
      "--------------------------------------------------\n",
      "Trainig fold 4\n",
      "Fold 4 has score 0.8008904338659004\n",
      "Overall score is 0.7993316064706304!\n"
     ]
    }
   ],
   "source": [
    "# Stacking \n",
    "train = oof_df\n",
    "kfold = StratifiedKFold(n_splits=5, shuffle=True, random_state=42)\n",
    "oof_final = np.zeros(len(train))\n",
    "for fold, (trn_idx, val_idx) in enumerate(kfold.split(train[features], train['target'])):\n",
    "    print('')\n",
    "    print('-'*50)\n",
    "    print(f'Trainig fold {fold}')\n",
    "    x_train, x_val = train[features].iloc[trn_idx], train[features].iloc[val_idx]\n",
    "    y_train, y_val = train['target'].iloc[trn_idx], train['target'].iloc[val_idx]\n",
    "    logreg = LogisticRegression(random_state=16)\n",
    "    logreg.fit(x_train, y_train)\n",
    "    y_pred = logreg.predict_proba(x_val)[::,1]\n",
    "    score = amex_metric(y_val, y_pred)\n",
    "    print(f'Fold {fold} has score {score}')\n",
    "    oof_final[val_idx] = y_pred\n",
    "    del x_train, y_train, x_val, y_val\n",
    "    gc.collect()\n",
    "score = amex_metric(train['target'], oof_final)\n",
    "print(f'Overall score is {score}!')\n",
    "oof_final_df = pd.DataFrame({'customer_ID':train['customer_ID'], \n",
    "                             'target':train['target'], 'oof_final': oof_final})\n",
    "#oof_final_df.to_csv('logistic_final_oof.csv', index=False)"
   ]
  },
  {
   "cell_type": "code",
   "execution_count": 8,
   "id": "d77d3128",
   "metadata": {},
   "outputs": [
    {
     "data": {
      "text/plain": [
       "(0.2589331297849998, 0.35759680658983434)"
      ]
     },
     "execution_count": 8,
     "metadata": {},
     "output_type": "execute_result"
    }
   ],
   "source": [
    "oof_final_df.oof_final.mean(), oof_final_df.oof_final.std()"
   ]
  },
  {
   "cell_type": "code",
   "execution_count": 9,
   "id": "676ef48e",
   "metadata": {},
   "outputs": [
    {
     "data": {
      "image/png": "[encoded data removed]",
      "text/plain": [
       "<Figure size 432x288 with 1 Axes>"
      ]
     },
     "metadata": {
      "needs_background": "light"
     },
     "output_type": "display_data"
    }
   ],
   "source": [
    "# Plot distribution\n",
    "plt.hist(oof_final_df.oof_final, bins=100)\n",
    "plt.title('Final out-of-fold prediction')\n",
    "plt.show()"
   ]
  },
  {
   "cell_type": "markdown",
   "id": "66e843e4",
   "metadata": {},
   "source": [
    "# **Submision**"
   ]
  },
  {
   "cell_type": "code",
   "execution_count": 10,
   "id": "e44c8f39",
   "metadata": {},
   "outputs": [],
   "source": [
    "# Single model predictions are saved in folder 'Single model predictions'\n",
    "test_path = ['test_lgbm_5folds_seed42_l2_5_1258fe_round2_9500_new.csv'\n",
    "            ,'test_lgbm_5folds_seed42_l2_5_1258fe_round2_9500_ff25.csv'\n",
    "            ,'XGB_5folds_seed42_fe1285_round2.csv'\n",
    "            ,'submission_0796_kaggle.csv'\n",
    "            ]"
   ]
  },
  {
   "cell_type": "code",
   "execution_count": 11,
   "id": "b31b0b38",
   "metadata": {},
   "outputs": [
    {
     "name": "stdout",
     "output_type": "stream",
     "text": [
      "model 1 is: test_lgbm_5folds_seed42_l2_5_1258fe_round2_9500_new\n",
      "model 2 is: test_lgbm_5folds_seed42_l2_5_1258fe_round2_9500_ff25\n",
      "model 3 is: XGB_5folds_seed42_fe1285_round2\n",
      "model 4 is: submission_0796_kaggle\n"
     ]
    },
    {
     "data": {
      "text/plain": [
       "(924621, 5)"
      ]
     },
     "execution_count": 11,
     "metadata": {},
     "output_type": "execute_result"
    }
   ],
   "source": [
    "test_df = pd.DataFrame()\n",
    "\n",
    "for i, path in enumerate(test_path):\n",
    "    \n",
    "    # Find filename\n",
    "    start = 0\n",
    "    end = path.find('.csv')\n",
    "    fname = path[start:end]\n",
    "    \n",
    "    print(f'model {i+1} is: {fname}')\n",
    "    \n",
    "    temp = pd.read_csv(path)\n",
    "    \n",
    "    # Set column name of oof\n",
    "    temp.rename(columns={'prediction': f'model {i+1}'}, inplace=True)\n",
    "    \n",
    "    \n",
    "    # Join to main file\n",
    "    if i == 0:\n",
    "        test_df = temp\n",
    "    else:\n",
    "        test_df = pd.merge(test_df, temp, on=\"customer_ID\", how=\"left\")\n",
    "    \n",
    "test_df.shape"
   ]
  },
  {
   "cell_type": "code",
   "execution_count": 12,
   "id": "d55d6947",
   "metadata": {},
   "outputs": [
    {
     "data": {
      "text/html": [
       "<div>\n",
       "<style scoped>\n",
       "    .dataframe tbody tr th:only-of-type {\n",
       "        vertical-align: middle;\n",
       "    }\n",
       "\n",
       "    .dataframe tbody tr th {\n",
       "        vertical-align: top;\n",
       "    }\n",
       "\n",
       "    .dataframe thead th {\n",
       "        text-align: right;\n",
       "    }\n",
       "</style>\n",
       "<table border=\"1\" class=\"dataframe\">\n",
       "  <thead>\n",
       "    <tr style=\"text-align: right;\">\n",
       "      <th></th>\n",
       "      <th>customer_ID</th>\n",
       "      <th>model 1</th>\n",
       "      <th>model 2</th>\n",
       "      <th>model 3</th>\n",
       "      <th>model 4</th>\n",
       "    </tr>\n",
       "  </thead>\n",
       "  <tbody>\n",
       "    <tr>\n",
       "      <th>0</th>\n",
       "      <td>00000469ba478561f23a92a868bd366de6f6527a684c9a...</td>\n",
       "      <td>0.024439</td>\n",
       "      <td>0.026165</td>\n",
       "      <td>0.028794</td>\n",
       "      <td>0.253203</td>\n",
       "    </tr>\n",
       "    <tr>\n",
       "      <th>1</th>\n",
       "      <td>00001bf2e77ff879fab36aa4fac689b9ba411dae63ae39...</td>\n",
       "      <td>0.001186</td>\n",
       "      <td>0.001194</td>\n",
       "      <td>0.000856</td>\n",
       "      <td>0.044007</td>\n",
       "    </tr>\n",
       "    <tr>\n",
       "      <th>2</th>\n",
       "      <td>0000210045da4f81e5f122c6bde5c2a617d03eef67f82c...</td>\n",
       "      <td>0.034440</td>\n",
       "      <td>0.028388</td>\n",
       "      <td>0.029196</td>\n",
       "      <td>0.287626</td>\n",
       "    </tr>\n",
       "    <tr>\n",
       "      <th>3</th>\n",
       "      <td>00003b41e58ede33b8daf61ab56d9952f17c9ad1c3976c...</td>\n",
       "      <td>0.193151</td>\n",
       "      <td>0.180222</td>\n",
       "      <td>0.207366</td>\n",
       "      <td>0.431190</td>\n",
       "    </tr>\n",
       "    <tr>\n",
       "      <th>4</th>\n",
       "      <td>00004b22eaeeeb0ec976890c1d9bfc14fd9427e98c4ee9...</td>\n",
       "      <td>0.881658</td>\n",
       "      <td>0.877606</td>\n",
       "      <td>0.908114</td>\n",
       "      <td>0.890808</td>\n",
       "    </tr>\n",
       "  </tbody>\n",
       "</table>\n",
       "</div>"
      ],
      "text/plain": [
       "                                         customer_ID   model 1   model 2  \\\n",
       "0  00000469ba478561f23a92a868bd366de6f6527a684c9a...  0.024439  0.026165   \n",
       "1  00001bf2e77ff879fab36aa4fac689b9ba411dae63ae39...  0.001186  0.001194   \n",
       "2  0000210045da4f81e5f122c6bde5c2a617d03eef67f82c...  0.034440  0.028388   \n",
       "3  00003b41e58ede33b8daf61ab56d9952f17c9ad1c3976c...  0.193151  0.180222   \n",
       "4  00004b22eaeeeb0ec976890c1d9bfc14fd9427e98c4ee9...  0.881658  0.877606   \n",
       "\n",
       "    model 3   model 4  \n",
       "0  0.028794  0.253203  \n",
       "1  0.000856  0.044007  \n",
       "2  0.029196  0.287626  \n",
       "3  0.207366  0.431190  \n",
       "4  0.908114  0.890808  "
      ]
     },
     "execution_count": 12,
     "metadata": {},
     "output_type": "execute_result"
    }
   ],
   "source": [
    "test_df.head()"
   ]
  },
  {
   "cell_type": "code",
   "execution_count": 13,
   "id": "56a0e6e1",
   "metadata": {},
   "outputs": [],
   "source": [
    "feat = [fe for fe in test_df.columns if fe not in ['customer_ID']]\n",
    "x_test = test_df[feat]\n",
    "x_pred = logreg.predict_proba(x_test)[::,1]\n",
    "test_df['prediction'] = x_pred\n",
    "submission = test_df[['customer_ID', 'prediction']]\n",
    "#submission.to_csv('submission_stacking0.csv', index=False)"
   ]
  },
  {
   "cell_type": "code",
   "execution_count": 14,
   "id": "17158f2c",
   "metadata": {},
   "outputs": [
    {
     "data": {
      "image/png": "[encoded data removed]",
      "text/plain": [
       "<Figure size 432x288 with 1 Axes>"
      ]
     },
     "metadata": {
      "needs_background": "light"
     },
     "output_type": "display_data"
    }
   ],
   "source": [
    "# Plot the distribution of the final submission\n",
    "plt.hist(submission.prediction, bins=100)\n",
    "plt.title('Distribution of predictions after stacking')\n",
    "plt.show()"
   ]
  },
  {
   "cell_type": "code",
   "execution_count": null,
   "id": "3b6019a6",
   "metadata": {},
   "outputs": [],
   "source": []
  }
 ],
 "metadata": {
  "kernelspec": {
   "display_name": "Python 3 (ipykernel)",
   "language": "python",
   "name": "python3"
  },
  "language_info": {
   "codemirror_mode": {
    "name": "ipython",
    "version": 3
   },
   "file_extension": ".py",
   "mimetype": "text/x-python",
   "name": "python",
   "nbconvert_exporter": "python",
   "pygments_lexer": "ipython3",
   "version": "3.10.5"
  }
 },
 "nbformat": 4,
 "nbformat_minor": 5
}
